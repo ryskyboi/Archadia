{
 "cells": [
  {
   "cell_type": "code",
   "execution_count": 23,
   "metadata": {},
   "outputs": [],
   "source": [
    "from scrape import ScrapeLeaderboard\n",
    "import pandas as pd\n",
    "import datetime as dt"
   ]
  },
  {
   "cell_type": "code",
   "execution_count": 10,
   "metadata": {},
   "outputs": [],
   "source": [
    "Query = False"
   ]
  },
  {
   "cell_type": "code",
   "execution_count": null,
   "metadata": {},
   "outputs": [],
   "source": [
    "## This takes fucking forever to run as it has to scrape the entire leaderboard 10 rows at a time\n",
    "## I tried to make do it by editing to do 50 but it kept breaking"
   ]
  },
  {
   "cell_type": "code",
   "execution_count": 13,
   "metadata": {},
   "outputs": [],
   "source": [
    "if Query:\n",
    "    chrome_driver = \"/usr/lib/chromium-browser/chromedriver\"\n",
    "    url = \"https://arcadia.finance/points\"\n",
    "    leaderboard = ScrapeLeaderboard(chrome_driver, url)\n",
    "    df = leaderboard.scrape_to_df()\n",
    "    df.to_csv(\"arcadia_leaderboard.csv\", index=False)\n",
    "else:\n",
    "    df = pd.read_csv(\"arcadia_leaderboard.csv\")"
   ]
  },
  {
   "cell_type": "code",
   "execution_count": null,
   "metadata": {},
   "outputs": [],
   "source": [
    "## Somehow the bottom people have negative points"
   ]
  },
  {
   "cell_type": "code",
   "execution_count": 18,
   "metadata": {},
   "outputs": [],
   "source": [
    "df[\"Points\"] = df[\"Points\"].astype(int)\n",
    "df = df[df[\"Points\"] > 0]"
   ]
  },
  {
   "cell_type": "code",
   "execution_count": 21,
   "metadata": {},
   "outputs": [],
   "source": [
    "total_points = df[\"Points\"].sum()"
   ]
  },
  {
   "cell_type": "code",
   "execution_count": null,
   "metadata": {},
   "outputs": [],
   "source": [
    "first_points_date = dt.datetime.strptime(\"Apr 3, 2024\", \"%b %d, %Y\")\n",
    "## assuming tge in 2 weeks\n",
    "today = dt.datetime(2024, 12, 22)\n",
    "tge_date = today + dt.timedelta(weeks=2)\n",
    "\n",
    "\n",
    "##Prob an underestimate as the people with the most points are likely to be the most active later\n",
    "expected_final_points = total_points * (tge_date - first_points_date).days / (today - first_points_date).days"
   ]
  },
  {
   "cell_type": "code",
   "execution_count": 33,
   "metadata": {},
   "outputs": [],
   "source": [
    "##Complete Guess\n",
    "\n",
    "expected_mcap = 100_000_000\n",
    "percentage_at_tge = 0.1"
   ]
  },
  {
   "cell_type": "code",
   "execution_count": 34,
   "metadata": {},
   "outputs": [],
   "source": [
    "point_value_linear = expected_mcap * percentage_at_tge / expected_final_points"
   ]
  },
  {
   "cell_type": "code",
   "execution_count": 36,
   "metadata": {},
   "outputs": [],
   "source": [
    "##Staking is 100 Points per 100$ per hour\n",
    "##So 1 dollar is 1 point per hour\n",
    "\n",
    "points_per_year = 24 * 365"
   ]
  },
  {
   "cell_type": "code",
   "execution_count": 38,
   "metadata": {},
   "outputs": [
    {
     "name": "stdout",
     "output_type": "stream",
     "text": [
      "APY: 239.53%\n"
     ]
    }
   ],
   "source": [
    "print(f\"APY: {point_value_linear * points_per_year * 100:.2f}%\")"
   ]
  },
  {
   "cell_type": "code",
   "execution_count": null,
   "metadata": {},
   "outputs": [],
   "source": []
  }
 ],
 "metadata": {
  "kernelspec": {
   "display_name": "archadia-qrauNZTT-py3.12",
   "language": "python",
   "name": "python3"
  },
  "language_info": {
   "codemirror_mode": {
    "name": "ipython",
    "version": 3
   },
   "file_extension": ".py",
   "mimetype": "text/x-python",
   "name": "python",
   "nbconvert_exporter": "python",
   "pygments_lexer": "ipython3",
   "version": "3.12.3"
  }
 },
 "nbformat": 4,
 "nbformat_minor": 2
}
