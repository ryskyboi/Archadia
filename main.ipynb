{
 "cells": [
  {
   "cell_type": "code",
   "execution_count": 1,
   "metadata": {},
   "outputs": [],
   "source": [
    "from scrape import ScrapeLeaderboard"
   ]
  },
  {
   "cell_type": "code",
   "execution_count": 2,
   "metadata": {},
   "outputs": [],
   "source": [
    "chrome_driver = \"/usr/lib/chromium-browser/chromedriver\"\n",
    "url = \"https://arcadia.finance/points\""
   ]
  },
  {
   "cell_type": "code",
   "execution_count": 3,
   "metadata": {},
   "outputs": [
    {
     "name": "stderr",
     "output_type": "stream",
     "text": [
      "INFO:scrape:Getting initial table data\n",
      "INFO:scrape:Found 10 rows\n",
      "INFO:scrape:Found 10 rows\n",
      "INFO:scrape:Found 10 rows\n",
      "INFO:scrape:Found 10 rows\n",
      "INFO:scrape:Found 10 rows\n",
      "INFO:scrape:Found 10 rows\n",
      "INFO:scrape:Found 10 rows\n",
      "INFO:scrape:Found 10 rows\n",
      "INFO:scrape:Found 10 rows\n",
      "INFO:scrape:Found 10 rows\n",
      "INFO:scrape:Found 10 rows\n",
      "INFO:scrape:Found 10 rows\n"
     ]
    }
   ],
   "source": [
    "leaderboard = ScrapeLeaderboard(chrome_driver, url)\n",
    "df = leaderboard.scrape_to_df()"
   ]
  },
  {
   "cell_type": "code",
   "execution_count": null,
   "metadata": {},
   "outputs": [],
   "source": []
  }
 ],
 "metadata": {
  "kernelspec": {
   "display_name": "archadia-qrauNZTT-py3.12",
   "language": "python",
   "name": "python3"
  },
  "language_info": {
   "codemirror_mode": {
    "name": "ipython",
    "version": 3
   },
   "file_extension": ".py",
   "mimetype": "text/x-python",
   "name": "python",
   "nbconvert_exporter": "python",
   "pygments_lexer": "ipython3",
   "version": "3.12.3"
  }
 },
 "nbformat": 4,
 "nbformat_minor": 2
}
